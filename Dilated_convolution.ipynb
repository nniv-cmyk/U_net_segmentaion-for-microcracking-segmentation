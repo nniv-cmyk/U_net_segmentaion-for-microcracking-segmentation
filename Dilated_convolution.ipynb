{
 "cells": [
  {
   "cell_type": "code",
   "execution_count": 8,
   "id": "880feea7",
   "metadata": {},
   "outputs": [],
   "source": [
    "import torch\n",
    "import torch.nn as nn\n"
   ]
  },
  {
   "cell_type": "code",
   "execution_count": 9,
   "id": "40209e2b",
   "metadata": {},
   "outputs": [],
   "source": [
    "# Define a 3x3 filter for the dilated convolution\n",
    "filter = torch.tensor([[1, 0, 1],\n",
    "                       [0, 1, 0],\n",
    "                       [1, 0, 1]])\n",
    "\n"
   ]
  },
  {
   "cell_type": "code",
   "execution_count": 15,
   "id": "9afd565e",
   "metadata": {},
   "outputs": [
    {
     "data": {
      "text/plain": [
       "torch.float32"
      ]
     },
     "execution_count": 15,
     "metadata": {},
     "output_type": "execute_result"
    }
   ],
   "source": [
    "# Reshape the filter into a 2D tensor\n",
    "filter = filter.view(1, 1, 3, 3).float()\n",
    "\n",
    "filter.dtype"
   ]
  },
  {
   "cell_type": "code",
   "execution_count": 21,
   "id": "6cd839b5",
   "metadata": {},
   "outputs": [
    {
     "data": {
      "text/plain": [
       "torch.Size([1, 5, 5])"
      ]
     },
     "execution_count": 21,
     "metadata": {},
     "output_type": "execute_result"
    }
   ],
   "source": [
    "# Define a 1x5x5 input tensor\n",
    "input = torch.tensor([[[1, 2, 3, 4, 5],\n",
    "                       [5, 4, 3, 2, 1],\n",
    "                       [1, 2, 3, 4, 5],\n",
    "                       [5, 4, 3, 2, 1],\n",
    "                       [1, 2, 3, 4, 5]]]).float()\n",
    "\n",
    "input.size()"
   ]
  },
  {
   "cell_type": "code",
   "execution_count": 17,
   "id": "3ce03429",
   "metadata": {},
   "outputs": [
    {
     "data": {
      "text/plain": [
       "Conv2d(1, 1, kernel_size=(3, 3), stride=(1, 1), padding=(2, 2), dilation=(2, 2))"
      ]
     },
     "execution_count": 17,
     "metadata": {},
     "output_type": "execute_result"
    }
   ],
   "source": [
    "# Define a 2D dilated convolution layer with dilation rate of 2\n",
    "dilated_conv = nn.Conv2d(in_channels=1, out_channels=1, kernel_size=3, stride=1, padding=2, dilation=2)\n",
    "dilated_conv\n"
   ]
  },
  {
   "cell_type": "code",
   "execution_count": 19,
   "id": "acd2defa",
   "metadata": {},
   "outputs": [
    {
     "data": {
      "text/plain": [
       "Conv2d(1, 1, kernel_size=(3, 3), stride=(1, 1), padding=(2, 2), dilation=(2, 2))"
      ]
     },
     "execution_count": 19,
     "metadata": {},
     "output_type": "execute_result"
    }
   ],
   "source": [
    "# Assign the filter to the dilated convolution layer\n",
    "dilated_conv.weight = nn.Parameter(filter)\n",
    "dilated_conv"
   ]
  },
  {
   "cell_type": "code",
   "execution_count": 22,
   "id": "73e66f2b",
   "metadata": {},
   "outputs": [],
   "source": [
    "\n",
    "# Perform the dilated convolution\n",
    "output = dilated_conv(input.unsqueeze(0)) # unsqueeze adds an additional dimenson\n"
   ]
  },
  {
   "cell_type": "code",
   "execution_count": 23,
   "id": "bf14c22d",
   "metadata": {},
   "outputs": [
    {
     "name": "stdout",
     "output_type": "stream",
     "text": [
      "[[ 4.2349906  6.2349906  9.234991   6.2349906  8.234991 ]\n",
      " [ 8.234991   6.2349906  9.234991   6.2349906  4.2349906]\n",
      " [ 7.2349906 10.234991  15.234991   8.234991  11.234991 ]\n",
      " [ 8.234991   6.2349906  9.234991   6.2349906  4.2349906]\n",
      " [ 4.2349906  6.2349906  9.234991   6.2349906  8.234991 ]]\n"
     ]
    }
   ],
   "source": [
    "# Print the output\n",
    "print(output.squeeze().detach().numpy())"
   ]
  },
  {
   "cell_type": "code",
   "execution_count": null,
   "id": "6a4eeca0",
   "metadata": {},
   "outputs": [],
   "source": []
  }
 ],
 "metadata": {
  "kernelspec": {
   "display_name": "Python 3 (ipykernel)",
   "language": "python",
   "name": "python3"
  },
  "language_info": {
   "codemirror_mode": {
    "name": "ipython",
    "version": 3
   },
   "file_extension": ".py",
   "mimetype": "text/x-python",
   "name": "python",
   "nbconvert_exporter": "python",
   "pygments_lexer": "ipython3",
   "version": "3.9.7"
  }
 },
 "nbformat": 4,
 "nbformat_minor": 5
}
